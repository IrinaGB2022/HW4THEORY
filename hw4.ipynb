{
 "cells": [
  {
   "cell_type": "code",
   "execution_count": null,
   "id": "628d7b43",
   "metadata": {},
   "outputs": [],
   "source": [
    "1.Случайная непрерывная величина A имеет равномерное распределение на промежутке (200, 800].\n",
    "\n",
    "Найдите ее среднее значение и дисперсию.\n",
    "                                                                                "
   ]
  },
  {
   "cell_type": "code",
   "execution_count": 3,
   "id": "27e8fb21",
   "metadata": {},
   "outputs": [
    {
     "name": "stdout",
     "output_type": "stream",
     "text": [
      "На промежутке (200;800]\n",
      "Среднее значение: М(А) =  500.00\n",
      "Дисперсия: D(A) =  30000.00\n"
     ]
    }
   ],
   "source": [
    "def medium_and_disp(a,b):\n",
    "    return f'На промежутке ({a};{b}]\\nСреднее значение: М(А) = {(a+b)/2: .2f}\\nДисперсия: D(A) = {((b-a)**2)/12: .2f}'\n",
    "print(medium_and_disp(200,800))"
   ]
  },
  {
   "cell_type": "code",
   "execution_count": null,
   "id": "f014fd62",
   "metadata": {},
   "outputs": [],
   "source": [
    "Ответ : Среднее значение: М(А) =  500.00\n",
    "Дисперсия: D(A) =  30000.00"
   ]
  },
  {
   "cell_type": "code",
   "execution_count": null,
   "id": "4c2dd318",
   "metadata": {},
   "outputs": [],
   "source": [
    "2.О случайной непрерывной равномерно распределенной величине B известно, что ее дисперсия равна 0.2.\n",
    "Можно ли найти правую границу величины B и ее среднее значение зная, что левая граница равна 0.5? \n",
    "Если да, найдите ее.\n",
    "Дисперсия случайной непрерывной равномерно распределённой на отрезке (a;b) величины  находится по формуле: \n",
    "              \n",
    "    D(B)=(b-a) ²\n",
    "         ------\n",
    "            12\n",
    "\n",
    "Заданные значения D(B) = 0.2 ,  a=5\n",
    "Правая границa b =\n",
    "       \n",
    "(b-0.5)²\n",
    "------- = 0.2b - 0.5 = √2.4b=0.5+√2.4\n",
    "  12 \n",
    " \n",
    "\n",
    "И найдем среднее значение по формуле:\n",
    "    M(B)=a+b\n",
    "         -----\n",
    "          2\n"
   ]
  },
  {
   "cell_type": "code",
   "execution_count": 4,
   "id": "5b7e8ead",
   "metadata": {},
   "outputs": [
    {
     "name": "stdout",
     "output_type": "stream",
     "text": [
      "Левая граница распределения величины В - b =  2.049\n",
      "Среднее значение В на промежутке (0.5;  2.049) M(B) =  1.275\n"
     ]
    }
   ],
   "source": [
    "b=0.5+2.4**(1/2)\n",
    "print(f'Левая граница распределения величины В - b = {b: .3f}\\n'\n",
    "      f'Среднее значение В на промежутке (0.5; {b: .3f}) M(B) = {(b+0.5)/2: .3f}'     \n",
    "     )"
   ]
  },
  {
   "cell_type": "code",
   "execution_count": null,
   "id": "fa37eaab",
   "metadata": {},
   "outputs": [],
   "source": [
    "Ответ : Левая граница распределения величины В - b =  2.049\n",
    "Среднее значение В на промежутке (0.5;  2.049) M(B) =  1.275"
   ]
  },
  {
   "cell_type": "code",
   "execution_count": null,
   "id": "9fc72d1d",
   "metadata": {},
   "outputs": [],
   "source": [
    "3. Непрерывная случайная величина X распределена нормально и задана плотностью распределения\n",
    "\n",
    "f(x) = (1 / (4 * sqrt(2pi))) * exp((-(x+2)**2) / 32)\n",
    "\n",
    "Найдите:\n",
    "\n",
    "а. M(X)\n",
    "\n",
    "б. D(X)\n",
    "\n",
    "в. std(X) (среднее квадратичное отклонение)"
   ]
  },
  {
   "cell_type": "code",
   "execution_count": null,
   "id": "721b0ac1",
   "metadata": {},
   "outputs": [],
   "source": [
    "M(X)=a=-2σ=4D(X)=16σ=4\n",
    "M(X) = -2D(X)=16σ=4"
   ]
  },
  {
   "cell_type": "code",
   "execution_count": null,
   "id": "83358a19",
   "metadata": {},
   "outputs": [],
   "source": [
    "4.Рост взрослого населения города X имеет нормальное распределение.\n",
    "\n",
    "Причем, средний рост равен 174 см, а среднее квадратичное отклонение равно 8 см.\n",
    "\n",
    "Какова вероятность того, что случайным образом выбранный взрослый человек имеет рост:\n",
    "\n",
    "а. больше 182 см\n",
    "\n",
    "б. больше 190 см\n",
    "\n",
    "в. от 166 см до 190 см\n",
    "\n",
    "г. от 166 см до 182 см\n",
    "\n",
    "д. от 158 см до 190 см\n",
    "\n",
    "е. не выше 150 см или не ниже 190 см\n",
    "\n",
    "ё. не выше 150 см или не ниже 198 см\n",
    "\n",
    "ж. ниже 166 см."
   ]
  },
  {
   "cell_type": "code",
   "execution_count": 5,
   "id": "ebf42243",
   "metadata": {},
   "outputs": [],
   "source": [
    "def z_value(height):\n",
    "    return (height-174)/8"
   ]
  },
  {
   "cell_type": "code",
   "execution_count": 6,
   "id": "ca7a163c",
   "metadata": {},
   "outputs": [],
   "source": [
    "from statistics import NormalDist"
   ]
  },
  {
   "cell_type": "code",
   "execution_count": 7,
   "id": "f3d3f8ca",
   "metadata": {},
   "outputs": [
    {
     "name": "stdout",
     "output_type": "stream",
     "text": [
      "1.0\n"
     ]
    }
   ],
   "source": [
    "print(z_value(182))"
   ]
  },
  {
   "cell_type": "code",
   "execution_count": 8,
   "id": "abca2081",
   "metadata": {},
   "outputs": [
    {
     "data": {
      "text/plain": [
       "0.8413447460685428"
      ]
     },
     "execution_count": 8,
     "metadata": {},
     "output_type": "execute_result"
    }
   ],
   "source": [
    "NormalDist().cdf(z_value(182))"
   ]
  },
  {
   "cell_type": "code",
   "execution_count": 9,
   "id": "fe947015",
   "metadata": {},
   "outputs": [
    {
     "data": {
      "text/plain": [
       "0.15865525393145719"
      ]
     },
     "execution_count": 9,
     "metadata": {},
     "output_type": "execute_result"
    }
   ],
   "source": [
    "P=1-NormalDist().cdf(z_value(182))\n",
    "P"
   ]
  },
  {
   "cell_type": "code",
   "execution_count": 10,
   "id": "726b2934",
   "metadata": {},
   "outputs": [
    {
     "data": {
      "text/plain": [
       "2.0"
      ]
     },
     "execution_count": 10,
     "metadata": {},
     "output_type": "execute_result"
    }
   ],
   "source": [
    "z=z_value(190)\n",
    "z"
   ]
  },
  {
   "cell_type": "code",
   "execution_count": 11,
   "id": "29c5e91f",
   "metadata": {},
   "outputs": [
    {
     "data": {
      "text/plain": [
       "0.022750131948179098"
      ]
     },
     "execution_count": 11,
     "metadata": {},
     "output_type": "execute_result"
    }
   ],
   "source": [
    "P=1-NormalDist().cdf(z)\n",
    "P"
   ]
  },
  {
   "cell_type": "code",
   "execution_count": 12,
   "id": "56901d7f",
   "metadata": {},
   "outputs": [
    {
     "data": {
      "text/plain": [
       "-1.0"
      ]
     },
     "execution_count": 12,
     "metadata": {},
     "output_type": "execute_result"
    }
   ],
   "source": [
    "z1=z_value(166)\n",
    "z1"
   ]
  },
  {
   "cell_type": "code",
   "execution_count": 14,
   "id": "ee12f514",
   "metadata": {},
   "outputs": [
    {
     "data": {
      "text/plain": [
       "2.0"
      ]
     },
     "execution_count": 14,
     "metadata": {},
     "output_type": "execute_result"
    }
   ],
   "source": [
    "z2=z_value(190)\n",
    "z2"
   ]
  },
  {
   "cell_type": "code",
   "execution_count": 15,
   "id": "f88ce16d",
   "metadata": {},
   "outputs": [
    {
     "data": {
      "text/plain": [
       "0.8185946141203637"
      ]
     },
     "execution_count": 15,
     "metadata": {},
     "output_type": "execute_result"
    }
   ],
   "source": [
    "P=NormalDist().cdf(z2)-NormalDist().cdf(z1)\n",
    "P"
   ]
  },
  {
   "cell_type": "code",
   "execution_count": null,
   "id": "ca29a513",
   "metadata": {},
   "outputs": [],
   "source": [
    "Вероятность от 166 см до 182 см:"
   ]
  },
  {
   "cell_type": "code",
   "execution_count": 16,
   "id": "825c9ae1",
   "metadata": {},
   "outputs": [
    {
     "data": {
      "text/plain": [
       "-1.0"
      ]
     },
     "execution_count": 16,
     "metadata": {},
     "output_type": "execute_result"
    }
   ],
   "source": [
    "z1=z_value(166)\n",
    "z1"
   ]
  },
  {
   "cell_type": "code",
   "execution_count": 17,
   "id": "40c63534",
   "metadata": {},
   "outputs": [
    {
     "data": {
      "text/plain": [
       "1.0"
      ]
     },
     "execution_count": 17,
     "metadata": {},
     "output_type": "execute_result"
    }
   ],
   "source": [
    "z2=z_value(182)\n",
    "z2"
   ]
  },
  {
   "cell_type": "code",
   "execution_count": 18,
   "id": "2fa097a3",
   "metadata": {},
   "outputs": [
    {
     "data": {
      "text/plain": [
       "0.6826894921370856"
      ]
     },
     "execution_count": 18,
     "metadata": {},
     "output_type": "execute_result"
    }
   ],
   "source": [
    "P=NormalDist().cdf(z2)-NormalDist().cdf(z1)\n",
    "P"
   ]
  },
  {
   "cell_type": "code",
   "execution_count": null,
   "id": "e6118de2",
   "metadata": {},
   "outputs": [],
   "source": [
    "Вероятность от 158 см до 190 см:"
   ]
  },
  {
   "cell_type": "code",
   "execution_count": 19,
   "id": "a964eb60",
   "metadata": {},
   "outputs": [
    {
     "data": {
      "text/plain": [
       "-2.0"
      ]
     },
     "execution_count": 19,
     "metadata": {},
     "output_type": "execute_result"
    }
   ],
   "source": [
    "z1=z_value(158)\n",
    "z1"
   ]
  },
  {
   "cell_type": "code",
   "execution_count": 20,
   "id": "64953fa0",
   "metadata": {},
   "outputs": [
    {
     "data": {
      "text/plain": [
       "2.0"
      ]
     },
     "execution_count": 20,
     "metadata": {},
     "output_type": "execute_result"
    }
   ],
   "source": [
    "z2=z_value(190)\n",
    "z2"
   ]
  },
  {
   "cell_type": "code",
   "execution_count": 21,
   "id": "99ba24ab",
   "metadata": {},
   "outputs": [
    {
     "data": {
      "text/plain": [
       "0.9544997361036418"
      ]
     },
     "execution_count": 21,
     "metadata": {},
     "output_type": "execute_result"
    }
   ],
   "source": [
    "P=NormalDist().cdf(z2)-NormalDist().cdf(z1)\n",
    "P"
   ]
  },
  {
   "cell_type": "code",
   "execution_count": null,
   "id": "c5c66490",
   "metadata": {},
   "outputs": [],
   "source": [
    "Вероятность не выше 150 см или не ниже 190 см"
   ]
  },
  {
   "cell_type": "code",
   "execution_count": 22,
   "id": "940065b7",
   "metadata": {},
   "outputs": [
    {
     "data": {
      "text/plain": [
       "-3.0"
      ]
     },
     "execution_count": 22,
     "metadata": {},
     "output_type": "execute_result"
    }
   ],
   "source": [
    "z1=z_value(150)\n",
    "z1"
   ]
  },
  {
   "cell_type": "code",
   "execution_count": 23,
   "id": "b24b124a",
   "metadata": {},
   "outputs": [
    {
     "data": {
      "text/plain": [
       "2.0"
      ]
     },
     "execution_count": 23,
     "metadata": {},
     "output_type": "execute_result"
    }
   ],
   "source": [
    "z2=z_value(190)\n",
    "z2"
   ]
  },
  {
   "cell_type": "code",
   "execution_count": 24,
   "id": "850a8cb2",
   "metadata": {},
   "outputs": [
    {
     "data": {
      "text/plain": [
       "0.0241000299798092"
      ]
     },
     "execution_count": 24,
     "metadata": {},
     "output_type": "execute_result"
    }
   ],
   "source": [
    "P=NormalDist().cdf(z1)+(1-NormalDist().cdf(z2))\n",
    "P"
   ]
  },
  {
   "cell_type": "code",
   "execution_count": null,
   "id": "c2e3e51d",
   "metadata": {},
   "outputs": [],
   "source": [
    "Вероятность не выше 150 см или не ниже 198 см"
   ]
  },
  {
   "cell_type": "code",
   "execution_count": 25,
   "id": "1dbfeb4d",
   "metadata": {},
   "outputs": [
    {
     "data": {
      "text/plain": [
       "-3.0"
      ]
     },
     "execution_count": 25,
     "metadata": {},
     "output_type": "execute_result"
    }
   ],
   "source": [
    "z1=z_value(150)\n",
    "z1"
   ]
  },
  {
   "cell_type": "code",
   "execution_count": 26,
   "id": "d059e7d6",
   "metadata": {},
   "outputs": [
    {
     "data": {
      "text/plain": [
       "3.0"
      ]
     },
     "execution_count": 26,
     "metadata": {},
     "output_type": "execute_result"
    }
   ],
   "source": [
    "z2=z_value(198)\n",
    "z2"
   ]
  },
  {
   "cell_type": "code",
   "execution_count": 27,
   "id": "22f9b426",
   "metadata": {},
   "outputs": [
    {
     "data": {
      "text/plain": [
       "0.002699796063260207"
      ]
     },
     "execution_count": 27,
     "metadata": {},
     "output_type": "execute_result"
    }
   ],
   "source": [
    "P=NormalDist().cdf(z1)+(1-NormalDist().cdf(z2))\n",
    "P"
   ]
  },
  {
   "cell_type": "code",
   "execution_count": null,
   "id": "af336945",
   "metadata": {},
   "outputs": [],
   "source": [
    "Вероятность ниже 166 см"
   ]
  },
  {
   "cell_type": "code",
   "execution_count": 33,
   "id": "0c52ce38",
   "metadata": {},
   "outputs": [
    {
     "data": {
      "text/plain": [
       "-1.0"
      ]
     },
     "execution_count": 33,
     "metadata": {},
     "output_type": "execute_result"
    }
   ],
   "source": [
    "z=z_value(166)\n",
    "z"
   ]
  },
  {
   "cell_type": "code",
   "execution_count": 37,
   "id": "c8bc5114",
   "metadata": {},
   "outputs": [
    {
     "data": {
      "text/plain": [
       "0.15865525393145713"
      ]
     },
     "execution_count": 37,
     "metadata": {},
     "output_type": "execute_result"
    }
   ],
   "source": [
    "P=NormalDist().cdf(z)\n",
    "P"
   ]
  },
  {
   "cell_type": "code",
   "execution_count": null,
   "id": "4b9411db",
   "metadata": {},
   "outputs": [],
   "source": [
    "Ответы :\n",
    "P (X>=182) = 0.1587;\n",
    "P (X>=190) = 0.02275;\n",
    "P (166<=X<=190) = 0.8186;\n",
    "P (166<=X<=182) = 0.6827;\n",
    "P (158<=X<=190) = 0.9545;\n",
    "P (X<=150U X>=190) = 0.0241;\n",
    "P (X<=150U X>=198) = 0.0027;\n",
    "P (X<=166) = 0.1587;\n"
   ]
  },
  {
   "cell_type": "code",
   "execution_count": null,
   "id": "07faa453",
   "metadata": {},
   "outputs": [],
   "source": [
    "На сколько сигм (средних квадратичных отклонений) отклоняется рост человека, равный 190 см,\n",
    "от математического ожидания роста в популяции, в которой M(X) = 178 см и D(X) = 25 кв.см?"
   ]
  },
  {
   "cell_type": "code",
   "execution_count": 38,
   "id": "2d5251c9",
   "metadata": {},
   "outputs": [
    {
     "data": {
      "text/plain": [
       "2.4"
      ]
     },
     "execution_count": 38,
     "metadata": {},
     "output_type": "execute_result"
    }
   ],
   "source": [
    "Z=(190-178)/25**(1/2)\n",
    "Z"
   ]
  },
  {
   "cell_type": "code",
   "execution_count": null,
   "id": "c7bcea5d",
   "metadata": {},
   "outputs": [],
   "source": [
    "Ответ:\n",
    "на 2.4 сигмы"
   ]
  }
 ],
 "metadata": {
  "kernelspec": {
   "display_name": "Python 3 (ipykernel)",
   "language": "python",
   "name": "python3"
  },
  "language_info": {
   "codemirror_mode": {
    "name": "ipython",
    "version": 3
   },
   "file_extension": ".py",
   "mimetype": "text/x-python",
   "name": "python",
   "nbconvert_exporter": "python",
   "pygments_lexer": "ipython3",
   "version": "3.9.13"
  }
 },
 "nbformat": 4,
 "nbformat_minor": 5
}
